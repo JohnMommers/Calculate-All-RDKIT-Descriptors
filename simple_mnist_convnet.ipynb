{
  "nbformat": 4,
  "nbformat_minor": 0,
  "metadata": {
    "colab": {
      "name": "simple_mnist_convnet.ipynb",
      "provenance": [],
      "collapsed_sections": [],
      "authorship_tag": "ABX9TyNb9uzOJKYQW76DU0ps0QnX",
      "include_colab_link": true
    },
    "kernelspec": {
      "name": "python3",
      "display_name": "Python 3"
    },
    "language_info": {
      "name": "python"
    }
  },
  "cells": [
    {
      "cell_type": "markdown",
      "metadata": {
        "id": "view-in-github",
        "colab_type": "text"
      },
      "source": [
        "<a href=\"https://colab.research.google.com/github/JohnMommers/Calculate-All-RDKIT-Descriptors/blob/main/simple_mnist_convnet.ipynb\" target=\"_parent\"><img src=\"https://colab.research.google.com/assets/colab-badge.svg\" alt=\"Open In Colab\"/></a>"
      ]
    },
    {
      "cell_type": "markdown",
      "metadata": {
        "id": "tQJgqLeHY6R6"
      },
      "source": [
        "# Simple mnist convnet \n",
        "https://keras.io/examples/vision/mnist_convnet/\n"
      ]
    },
    {
      "cell_type": "code",
      "metadata": {
        "id": "zpDLeiP-If1I"
      },
      "source": [
        "# setup\n",
        "import numpy as np\n",
        "import tensorflow as tf\n",
        "import keras\n",
        "from tensorflow.keras import layers"
      ],
      "execution_count": 1,
      "outputs": []
    },
    {
      "cell_type": "code",
      "metadata": {
        "colab": {
          "base_uri": "https://localhost:8080/"
        },
        "id": "DE4_ChsjIx19",
        "outputId": "13c48fb4-b8fb-4b05-ba52-1ef0626370df"
      },
      "source": [
        "# data parameters\n",
        "num_classes = 10              # 0 to 9\n",
        "input_shape = (28, 28, 1)     # pictures of digits \n",
        "\n",
        "# split data\n",
        "(x_train, y_train), (x_test, y_test) = keras.datasets.mnist.load_data()\n",
        "\n",
        "# scale imgages [0,1]\n",
        "x_train = x_train.astype('float32')/255\n",
        "x_test = x_test.astype('float32')/255\n",
        "\n",
        "# shape \n",
        "x_train = np.expand_dims(x_train, -1)\n",
        "x_test = np.expand_dims(x_test, -1)\n",
        "print (f'x_train shape: {x_train.shape}   train samples: {x_train.shape[0]}   test samples: {x_test.shape[0]}')\n",
        "\n",
        "# convert class vectors to binary class matrices\n",
        "y_train = keras.utils.to_categorical(y_train, num_classes)\n",
        "y_test = keras.utils.to_categorical(y_test, num_classes)"
      ],
      "execution_count": 2,
      "outputs": [
        {
          "output_type": "stream",
          "text": [
            "Downloading data from https://storage.googleapis.com/tensorflow/tf-keras-datasets/mnist.npz\n",
            "11493376/11490434 [==============================] - 0s 0us/step\n",
            "x_train shape: (60000, 28, 28, 1)   train samples: 60000   test samples: 10000\n"
          ],
          "name": "stdout"
        }
      ]
    },
    {
      "cell_type": "code",
      "metadata": {
        "colab": {
          "base_uri": "https://localhost:8080/"
        },
        "id": "s8Dtx3ilIxyl",
        "outputId": "9b8bfad1-9ce3-495b-9d8f-0316d2666c69"
      },
      "source": [
        "# build model\n",
        "model = keras.Sequential(\n",
        "    [\n",
        "    keras.Input(shape=input_shape),\n",
        "    layers.Conv2D(32, kernel_size=(3,3), activation='relu'),\n",
        "    layers.MaxPooling2D(pool_size=(2,2)),\n",
        "    layers.Conv2D(64, kernel_size=(3,3), activation='relu'),\n",
        "    layers.MaxPooling2D(pool_size=(2,2)),\n",
        "    layers.Flatten(),\n",
        "    layers.Dropout(0.5),\n",
        "    layers.Dense(num_classes, activation='softmax'),\n",
        "    ]\n",
        ")\n",
        "\n",
        "model.summary()"
      ],
      "execution_count": 6,
      "outputs": [
        {
          "output_type": "stream",
          "text": [
            "Model: \"sequential\"\n",
            "_________________________________________________________________\n",
            "Layer (type)                 Output Shape              Param #   \n",
            "=================================================================\n",
            "conv2d_5 (Conv2D)            (None, 26, 26, 32)        320       \n",
            "_________________________________________________________________\n",
            "max_pooling2d_4 (MaxPooling2 (None, 13, 13, 32)        0         \n",
            "_________________________________________________________________\n",
            "conv2d_6 (Conv2D)            (None, 11, 11, 64)        18496     \n",
            "_________________________________________________________________\n",
            "max_pooling2d_5 (MaxPooling2 (None, 5, 5, 64)          0         \n",
            "_________________________________________________________________\n",
            "flatten_2 (Flatten)          (None, 1600)              0         \n",
            "_________________________________________________________________\n",
            "dropout_1 (Dropout)          (None, 1600)              0         \n",
            "_________________________________________________________________\n",
            "dense_1 (Dense)              (None, 10)                16010     \n",
            "=================================================================\n",
            "Total params: 34,826\n",
            "Trainable params: 34,826\n",
            "Non-trainable params: 0\n",
            "_________________________________________________________________\n"
          ],
          "name": "stdout"
        }
      ]
    },
    {
      "cell_type": "code",
      "metadata": {
        "colab": {
          "base_uri": "https://localhost:8080/"
        },
        "id": "cEmqsPzkIxv9",
        "outputId": "e547f659-5354-4d48-d285-14b2f2664395"
      },
      "source": [
        "# train model\n",
        "batch_size = 128\n",
        "epochs = 15\n",
        "\n",
        "model.compile(loss='categorical_crossentropy', optimizer='adam',metrics=['accuracy'])\n",
        "model.fit(x_train, y_train, batch_size=batch_size, epochs=epochs, validation_split=0.1) "
      ],
      "execution_count": 8,
      "outputs": [
        {
          "output_type": "stream",
          "text": [
            "Epoch 1/15\n",
            "422/422 [==============================] - 29s 68ms/step - loss: 0.7665 - accuracy: 0.7642 - val_loss: 0.0806 - val_accuracy: 0.9773\n",
            "Epoch 2/15\n",
            "422/422 [==============================] - 28s 67ms/step - loss: 0.1198 - accuracy: 0.9642 - val_loss: 0.0571 - val_accuracy: 0.9848\n",
            "Epoch 3/15\n",
            "422/422 [==============================] - 28s 67ms/step - loss: 0.0883 - accuracy: 0.9724 - val_loss: 0.0498 - val_accuracy: 0.9868\n",
            "Epoch 4/15\n",
            "422/422 [==============================] - 28s 67ms/step - loss: 0.0750 - accuracy: 0.9766 - val_loss: 0.0446 - val_accuracy: 0.9892\n",
            "Epoch 5/15\n",
            "422/422 [==============================] - 28s 66ms/step - loss: 0.0668 - accuracy: 0.9798 - val_loss: 0.0379 - val_accuracy: 0.9903\n",
            "Epoch 6/15\n",
            "422/422 [==============================] - 28s 66ms/step - loss: 0.0590 - accuracy: 0.9825 - val_loss: 0.0384 - val_accuracy: 0.9883\n",
            "Epoch 7/15\n",
            "422/422 [==============================] - 28s 67ms/step - loss: 0.0551 - accuracy: 0.9834 - val_loss: 0.0345 - val_accuracy: 0.9918\n",
            "Epoch 8/15\n",
            "422/422 [==============================] - 28s 67ms/step - loss: 0.0477 - accuracy: 0.9846 - val_loss: 0.0337 - val_accuracy: 0.9910\n",
            "Epoch 9/15\n",
            "422/422 [==============================] - 28s 67ms/step - loss: 0.0490 - accuracy: 0.9844 - val_loss: 0.0380 - val_accuracy: 0.9892\n",
            "Epoch 10/15\n",
            "422/422 [==============================] - 28s 66ms/step - loss: 0.0421 - accuracy: 0.9864 - val_loss: 0.0347 - val_accuracy: 0.9908\n",
            "Epoch 11/15\n",
            "422/422 [==============================] - 28s 67ms/step - loss: 0.0401 - accuracy: 0.9874 - val_loss: 0.0295 - val_accuracy: 0.9917\n",
            "Epoch 12/15\n",
            "422/422 [==============================] - 28s 67ms/step - loss: 0.0412 - accuracy: 0.9871 - val_loss: 0.0310 - val_accuracy: 0.9917\n",
            "Epoch 13/15\n",
            "422/422 [==============================] - 28s 66ms/step - loss: 0.0344 - accuracy: 0.9887 - val_loss: 0.0318 - val_accuracy: 0.9908\n",
            "Epoch 14/15\n",
            "422/422 [==============================] - 28s 67ms/step - loss: 0.0355 - accuracy: 0.9891 - val_loss: 0.0312 - val_accuracy: 0.9922\n",
            "Epoch 15/15\n",
            "422/422 [==============================] - 28s 66ms/step - loss: 0.0341 - accuracy: 0.9889 - val_loss: 0.0327 - val_accuracy: 0.9915\n"
          ],
          "name": "stdout"
        },
        {
          "output_type": "execute_result",
          "data": {
            "text/plain": [
              "<tensorflow.python.keras.callbacks.History at 0x7ffa080bf350>"
            ]
          },
          "metadata": {
            "tags": []
          },
          "execution_count": 8
        }
      ]
    },
    {
      "cell_type": "code",
      "metadata": {
        "colab": {
          "base_uri": "https://localhost:8080/"
        },
        "id": "WYsLpuWAIxtV",
        "outputId": "3af4b72f-0aff-4b28-88c8-eb07be8556a6"
      },
      "source": [
        "# evaluate model\n",
        "score = model.evaluate(x_test, y_test, verbose=0)\n",
        "print(score)"
      ],
      "execution_count": 9,
      "outputs": [
        {
          "output_type": "stream",
          "text": [
            "[0.0263767521828413, 0.9908000230789185]\n"
          ],
          "name": "stdout"
        }
      ]
    }
  ]
}