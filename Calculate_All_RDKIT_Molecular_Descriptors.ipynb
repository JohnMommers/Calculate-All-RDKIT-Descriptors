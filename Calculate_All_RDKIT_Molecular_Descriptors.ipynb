{
  "nbformat": 4,
  "nbformat_minor": 0,
  "metadata": {
    "colab": {
      "name": "Calculate All RDKIT Molecular Descriptors.ipynb",
      "provenance": [],
      "collapsed_sections": [],
      "toc_visible": true,
      "mount_file_id": "1k2p4mdnRJzOdX_bRZeU9zaxVgNwQ3Vsk",
      "authorship_tag": "ABX9TyPySdSOlPI5IBSwmi5Hl4KY",
      "include_colab_link": true
    },
    "kernelspec": {
      "name": "python3",
      "display_name": "Python 3"
    }
  },
  "cells": [
    {
      "cell_type": "markdown",
      "metadata": {
        "id": "view-in-github",
        "colab_type": "text"
      },
      "source": [
        "<a href=\"https://colab.research.google.com/github/JohnMommers/Calculate-All-RDKIT-Descriptors/blob/main/Calculate_All_RDKIT_Molecular_Descriptors.ipynb\" target=\"_parent\"><img src=\"https://colab.research.google.com/assets/colab-badge.svg\" alt=\"Open In Colab\"/></a>"
      ]
    },
    {
      "cell_type": "markdown",
      "metadata": {
        "id": "IZaAysbYKoSe"
      },
      "source": [
        "RDkit  \r\n",
        "Calculate molecular descriptors"
      ]
    },
    {
      "cell_type": "markdown",
      "metadata": {
        "id": "aYYl-0w8dzVP"
      },
      "source": [
        "##1. IMPORT LIBRARIES  \r\n",
        "\r\n",
        "Install libraries, see end of script."
      ]
    },
    {
      "cell_type": "code",
      "metadata": {
        "id": "lp4kQ1D1eHkw"
      },
      "source": [
        "import numpy as np\r\n",
        "import pandas as pd\r\n",
        "import rdkit as rk\r\n",
        "from rdkit import Chem \r\n",
        "from rdkit.Chem.Draw import IPythonConsole\r\n",
        "from rdkit.Chem import Draw\r\n",
        "from rdkit.Chem import Descriptors\r\n",
        "from rdkit.ML.Descriptors import MoleculeDescriptors"
      ],
      "execution_count": 20,
      "outputs": []
    },
    {
      "cell_type": "code",
      "metadata": {
        "id": "EvEvapuqeHP3",
        "colab": {
          "base_uri": "https://localhost:8080/",
          "height": 35
        },
        "outputId": "55c3e46d-3d2d-444f-f9b2-3026dadb560c"
      },
      "source": [
        "rk.__version__"
      ],
      "execution_count": 21,
      "outputs": [
        {
          "output_type": "execute_result",
          "data": {
            "application/vnd.google.colaboratory.intrinsic+json": {
              "type": "string"
            },
            "text/plain": [
              "'2020.09.1'"
            ]
          },
          "metadata": {
            "tags": []
          },
          "execution_count": 21
        }
      ]
    },
    {
      "cell_type": "code",
      "metadata": {
        "colab": {
          "base_uri": "https://localhost:8080/"
        },
        "id": "Ap5Kn5B2XkIQ",
        "outputId": "83a99713-9bc7-477a-c4ec-56f644c7f663"
      },
      "source": [
        "# Calculate some selected descriptors only\r\n",
        "des_list = ['MolWt', 'NumHAcceptors', 'NumHDonors', 'MolLogP', 'NumRotatableBonds']\r\n",
        "calculator = MoleculeDescriptors.MolecularDescriptorCalculator(des_list)\r\n",
        "calculator.CalcDescriptors(mol)"
      ],
      "execution_count": 32,
      "outputs": [
        {
          "output_type": "execute_result",
          "data": {
            "text/plain": [
              "(131.21900000000002, 2, 2, 0.7437999999999998, 5)"
            ]
          },
          "metadata": {
            "tags": []
          },
          "execution_count": 32
        }
      ]
    },
    {
      "cell_type": "code",
      "metadata": {
        "colab": {
          "base_uri": "https://localhost:8080/"
        },
        "id": "f0_2i2f0XkFf",
        "outputId": "38af5bb0-7797-475f-d903-da48ae1cd35b"
      },
      "source": [
        "# Show the whole list of descriptors\r\n",
        "des_list = [x[0] for x in Descriptors._descList]\r\n",
        "des_list"
      ],
      "execution_count": 33,
      "outputs": [
        {
          "output_type": "execute_result",
          "data": {
            "text/plain": [
              "['MaxEStateIndex',\n",
              " 'MinEStateIndex',\n",
              " 'MaxAbsEStateIndex',\n",
              " 'MinAbsEStateIndex',\n",
              " 'qed',\n",
              " 'MolWt',\n",
              " 'HeavyAtomMolWt',\n",
              " 'ExactMolWt',\n",
              " 'NumValenceElectrons',\n",
              " 'NumRadicalElectrons',\n",
              " 'MaxPartialCharge',\n",
              " 'MinPartialCharge',\n",
              " 'MaxAbsPartialCharge',\n",
              " 'MinAbsPartialCharge',\n",
              " 'FpDensityMorgan1',\n",
              " 'FpDensityMorgan2',\n",
              " 'FpDensityMorgan3',\n",
              " 'BCUT2D_MWHI',\n",
              " 'BCUT2D_MWLOW',\n",
              " 'BCUT2D_CHGHI',\n",
              " 'BCUT2D_CHGLO',\n",
              " 'BCUT2D_LOGPHI',\n",
              " 'BCUT2D_LOGPLOW',\n",
              " 'BCUT2D_MRHI',\n",
              " 'BCUT2D_MRLOW',\n",
              " 'BalabanJ',\n",
              " 'BertzCT',\n",
              " 'Chi0',\n",
              " 'Chi0n',\n",
              " 'Chi0v',\n",
              " 'Chi1',\n",
              " 'Chi1n',\n",
              " 'Chi1v',\n",
              " 'Chi2n',\n",
              " 'Chi2v',\n",
              " 'Chi3n',\n",
              " 'Chi3v',\n",
              " 'Chi4n',\n",
              " 'Chi4v',\n",
              " 'HallKierAlpha',\n",
              " 'Ipc',\n",
              " 'Kappa1',\n",
              " 'Kappa2',\n",
              " 'Kappa3',\n",
              " 'LabuteASA',\n",
              " 'PEOE_VSA1',\n",
              " 'PEOE_VSA10',\n",
              " 'PEOE_VSA11',\n",
              " 'PEOE_VSA12',\n",
              " 'PEOE_VSA13',\n",
              " 'PEOE_VSA14',\n",
              " 'PEOE_VSA2',\n",
              " 'PEOE_VSA3',\n",
              " 'PEOE_VSA4',\n",
              " 'PEOE_VSA5',\n",
              " 'PEOE_VSA6',\n",
              " 'PEOE_VSA7',\n",
              " 'PEOE_VSA8',\n",
              " 'PEOE_VSA9',\n",
              " 'SMR_VSA1',\n",
              " 'SMR_VSA10',\n",
              " 'SMR_VSA2',\n",
              " 'SMR_VSA3',\n",
              " 'SMR_VSA4',\n",
              " 'SMR_VSA5',\n",
              " 'SMR_VSA6',\n",
              " 'SMR_VSA7',\n",
              " 'SMR_VSA8',\n",
              " 'SMR_VSA9',\n",
              " 'SlogP_VSA1',\n",
              " 'SlogP_VSA10',\n",
              " 'SlogP_VSA11',\n",
              " 'SlogP_VSA12',\n",
              " 'SlogP_VSA2',\n",
              " 'SlogP_VSA3',\n",
              " 'SlogP_VSA4',\n",
              " 'SlogP_VSA5',\n",
              " 'SlogP_VSA6',\n",
              " 'SlogP_VSA7',\n",
              " 'SlogP_VSA8',\n",
              " 'SlogP_VSA9',\n",
              " 'TPSA',\n",
              " 'EState_VSA1',\n",
              " 'EState_VSA10',\n",
              " 'EState_VSA11',\n",
              " 'EState_VSA2',\n",
              " 'EState_VSA3',\n",
              " 'EState_VSA4',\n",
              " 'EState_VSA5',\n",
              " 'EState_VSA6',\n",
              " 'EState_VSA7',\n",
              " 'EState_VSA8',\n",
              " 'EState_VSA9',\n",
              " 'VSA_EState1',\n",
              " 'VSA_EState10',\n",
              " 'VSA_EState2',\n",
              " 'VSA_EState3',\n",
              " 'VSA_EState4',\n",
              " 'VSA_EState5',\n",
              " 'VSA_EState6',\n",
              " 'VSA_EState7',\n",
              " 'VSA_EState8',\n",
              " 'VSA_EState9',\n",
              " 'FractionCSP3',\n",
              " 'HeavyAtomCount',\n",
              " 'NHOHCount',\n",
              " 'NOCount',\n",
              " 'NumAliphaticCarbocycles',\n",
              " 'NumAliphaticHeterocycles',\n",
              " 'NumAliphaticRings',\n",
              " 'NumAromaticCarbocycles',\n",
              " 'NumAromaticHeterocycles',\n",
              " 'NumAromaticRings',\n",
              " 'NumHAcceptors',\n",
              " 'NumHDonors',\n",
              " 'NumHeteroatoms',\n",
              " 'NumRotatableBonds',\n",
              " 'NumSaturatedCarbocycles',\n",
              " 'NumSaturatedHeterocycles',\n",
              " 'NumSaturatedRings',\n",
              " 'RingCount',\n",
              " 'MolLogP',\n",
              " 'MolMR',\n",
              " 'fr_Al_COO',\n",
              " 'fr_Al_OH',\n",
              " 'fr_Al_OH_noTert',\n",
              " 'fr_ArN',\n",
              " 'fr_Ar_COO',\n",
              " 'fr_Ar_N',\n",
              " 'fr_Ar_NH',\n",
              " 'fr_Ar_OH',\n",
              " 'fr_COO',\n",
              " 'fr_COO2',\n",
              " 'fr_C_O',\n",
              " 'fr_C_O_noCOO',\n",
              " 'fr_C_S',\n",
              " 'fr_HOCCN',\n",
              " 'fr_Imine',\n",
              " 'fr_NH0',\n",
              " 'fr_NH1',\n",
              " 'fr_NH2',\n",
              " 'fr_N_O',\n",
              " 'fr_Ndealkylation1',\n",
              " 'fr_Ndealkylation2',\n",
              " 'fr_Nhpyrrole',\n",
              " 'fr_SH',\n",
              " 'fr_aldehyde',\n",
              " 'fr_alkyl_carbamate',\n",
              " 'fr_alkyl_halide',\n",
              " 'fr_allylic_oxid',\n",
              " 'fr_amide',\n",
              " 'fr_amidine',\n",
              " 'fr_aniline',\n",
              " 'fr_aryl_methyl',\n",
              " 'fr_azide',\n",
              " 'fr_azo',\n",
              " 'fr_barbitur',\n",
              " 'fr_benzene',\n",
              " 'fr_benzodiazepine',\n",
              " 'fr_bicyclic',\n",
              " 'fr_diazo',\n",
              " 'fr_dihydropyridine',\n",
              " 'fr_epoxide',\n",
              " 'fr_ester',\n",
              " 'fr_ether',\n",
              " 'fr_furan',\n",
              " 'fr_guanido',\n",
              " 'fr_halogen',\n",
              " 'fr_hdrzine',\n",
              " 'fr_hdrzone',\n",
              " 'fr_imidazole',\n",
              " 'fr_imide',\n",
              " 'fr_isocyan',\n",
              " 'fr_isothiocyan',\n",
              " 'fr_ketone',\n",
              " 'fr_ketone_Topliss',\n",
              " 'fr_lactam',\n",
              " 'fr_lactone',\n",
              " 'fr_methoxy',\n",
              " 'fr_morpholine',\n",
              " 'fr_nitrile',\n",
              " 'fr_nitro',\n",
              " 'fr_nitro_arom',\n",
              " 'fr_nitro_arom_nonortho',\n",
              " 'fr_nitroso',\n",
              " 'fr_oxazole',\n",
              " 'fr_oxime',\n",
              " 'fr_para_hydroxylation',\n",
              " 'fr_phenol',\n",
              " 'fr_phenol_noOrthoHbond',\n",
              " 'fr_phos_acid',\n",
              " 'fr_phos_ester',\n",
              " 'fr_piperdine',\n",
              " 'fr_piperzine',\n",
              " 'fr_priamide',\n",
              " 'fr_prisulfonamd',\n",
              " 'fr_pyridine',\n",
              " 'fr_quatN',\n",
              " 'fr_sulfide',\n",
              " 'fr_sulfonamd',\n",
              " 'fr_sulfone',\n",
              " 'fr_term_acetylene',\n",
              " 'fr_tetrazole',\n",
              " 'fr_thiazole',\n",
              " 'fr_thiocyan',\n",
              " 'fr_thiophene',\n",
              " 'fr_unbrch_alkane',\n",
              " 'fr_urea']"
            ]
          },
          "metadata": {
            "tags": []
          },
          "execution_count": 33
        }
      ]
    },
    {
      "cell_type": "code",
      "metadata": {
        "colab": {
          "base_uri": "https://localhost:8080/",
          "height": 167
        },
        "id": "QpPBf5YcXkLj",
        "outputId": "9ead855a-bfa6-4a84-84fa-38dc7f0a36bc"
      },
      "source": [
        "smiles = 'CC(CCCN)CCO'\r\n",
        "mol = Chem.MolFromSmiles(smiles)\r\n",
        "mol"
      ],
      "execution_count": 34,
      "outputs": [
        {
          "output_type": "execute_result",
          "data": {
            "image/png": "[encoded data removed]",
            "text/plain": [
              "<rdkit.Chem.rdchem.Mol at 0x7f3ba243f030>"
            ]
          },
          "metadata": {
            "tags": []
          },
          "execution_count": 34
        }
      ]
    },
    {
      "cell_type": "code",
      "metadata": {
        "colab": {
          "base_uri": "https://localhost:8080/"
        },
        "id": "ZFJ38iKgbP3w",
        "outputId": "dc6f3a4d-1354-4f3b-c78f-cbef93e9d3c2"
      },
      "source": [
        "len(des_list)"
      ],
      "execution_count": 36,
      "outputs": [
        {
          "output_type": "execute_result",
          "data": {
            "text/plain": [
              "208"
            ]
          },
          "metadata": {
            "tags": []
          },
          "execution_count": 36
        }
      ]
    },
    {
      "cell_type": "code",
      "metadata": {
        "colab": {
          "base_uri": "https://localhost:8080/"
        },
        "id": "woJYpvusY5io",
        "outputId": "75b362c5-6f92-4341-c356-9447eb3ece4c"
      },
      "source": [
        "# Calculate all descriptors (listed in des_list)\r\n",
        "calculator = MoleculeDescriptors.MolecularDescriptorCalculator(des_list)\r\n",
        "d = calculator.CalcDescriptors(mol)\r\n",
        "d"
      ],
      "execution_count": 37,
      "outputs": [
        {
          "output_type": "execute_result",
          "data": {
            "text/plain": [
              "(8.504753401360544,\n",
              " 0.3112481103552531,\n",
              " 8.504753401360544,\n",
              " 0.3112481103552531,\n",
              " 0.5778846656078308,\n",
              " 131.21900000000002,\n",
              " 114.08299999999998,\n",
              " 131.131014164,\n",
              " 56,\n",
              " 0,\n",
              " 0.043306490712543964,\n",
              " -0.39636589488895324,\n",
              " 0.39636589488895324,\n",
              " 0.043306490712543964,\n",
              " 1.4444444444444444,\n",
              " 2.111111111111111,\n",
              " 2.5555555555555554,\n",
              " 16.249997779780642,\n",
              " 10.02699854871761,\n",
              " 1.976927068433391,\n",
              " -2.06039163928883,\n",
              " 2.07127667735744,\n",
              " -2.033271132345335,\n",
              " 4.514914094129305,\n",
              " 0.2573328646968565,\n",
              " 2.9548225727898,\n",
              " 56.87784055857758,\n",
              " 7.112884175122364,\n",
              " 6.137448039811948,\n",
              " 6.137448039811948,\n",
              " 4.308060412490447,\n",
              " 3.618322906598053,\n",
              " 3.618322906598053,\n",
              " 2.5483573076502295,\n",
              " 2.5483573076502295,\n",
              " 1.5229462949909325,\n",
              " 1.5229462949909325,\n",
              " 0.8310369478156105,\n",
              " 0.8310369478156105,\n",
              " -0.08,\n",
              " 90.44046466047871,\n",
              " 8.92,\n",
              " 6.046262626262625,\n",
              " 5.796374085335294,\n",
              " 57.06302816341791,\n",
              " 10.84019487200289,\n",
              " 0.0,\n",
              " 0.0,\n",
              " 0.0,\n",
              " 0.0,\n",
              " 0.0,\n",
              " 0.0,\n",
              " 0.0,\n",
              " 0.0,\n",
              " 0.0,\n",
              " 6.923737199690624,\n",
              " 31.725127320851996,\n",
              " 6.606881964512918,\n",
              " 0.0,\n",
              " 5.106527394840706,\n",
              " 0.0,\n",
              " 0.0,\n",
              " 0.0,\n",
              " 11.651573523323577,\n",
              " 26.186202068468653,\n",
              " 13.151638370425493,\n",
              " 0.0,\n",
              " 0.0,\n",
              " 0.0,\n",
              " 5.733667477162185,\n",
              " 0.0,\n",
              " 0.0,\n",
              " 0.0,\n",
              " 18.2581657652662,\n",
              " 0.0,\n",
              " 5.917906046161393,\n",
              " 26.186202068468653,\n",
              " 0.0,\n",
              " 0.0,\n",
              " 0.0,\n",
              " 0.0,\n",
              " 46.25,\n",
              " 0.0,\n",
              " 0.0,\n",
              " 0.0,\n",
              " 0.0,\n",
              " 12.52478801067431,\n",
              " 25.807221274690605,\n",
              " 0.0,\n",
              " 0.0,\n",
              " 0.0,\n",
              " 6.923737199690624,\n",
              " 10.84019487200289,\n",
              " 0.0,\n",
              " 0.0,\n",
              " 0.0,\n",
              " 8.504753401360544,\n",
              " 5.310464852607709,\n",
              " 0.6375462962962961,\n",
              " 0.0,\n",
              " 3.1510185185185184,\n",
              " 3.229550264550264,\n",
              " 0.0,\n",
              " 1.0,\n",
              " 9,\n",
              " 3,\n",
              " 2,\n",
              " 0,\n",
              " 0,\n",
              " 0,\n",
              " 0,\n",
              " 0,\n",
              " 0,\n",
              " 2,\n",
              " 2,\n",
              " 2,\n",
              " 5,\n",
              " 0,\n",
              " 0,\n",
              " 0,\n",
              " 0,\n",
              " 0.7437999999999998,\n",
              " 39.155199999999994,\n",
              " 0,\n",
              " 1,\n",
              " 1,\n",
              " 0,\n",
              " 0,\n",
              " 0,\n",
              " 0,\n",
              " 0,\n",
              " 0,\n",
              " 0,\n",
              " 0,\n",
              " 0,\n",
              " 0,\n",
              " 0,\n",
              " 0,\n",
              " 0,\n",
              " 0,\n",
              " 1,\n",
              " 0,\n",
              " 0,\n",
              " 0,\n",
              " 0,\n",
              " 0,\n",
              " 0,\n",
              " 0,\n",
              " 0,\n",
              " 0,\n",
              " 0,\n",
              " 0,\n",
              " 0,\n",
              " 0,\n",
              " 0,\n",
              " 0,\n",
              " 0,\n",
              " 0,\n",
              " 0,\n",
              " 0,\n",
              " 0,\n",
              " 0,\n",
              " 0,\n",
              " 0,\n",
              " 0,\n",
              " 0,\n",
              " 0,\n",
              " 0,\n",
              " 0,\n",
              " 0,\n",
              " 0,\n",
              " 0,\n",
              " 0,\n",
              " 0,\n",
              " 0,\n",
              " 0,\n",
              " 0,\n",
              " 0,\n",
              " 0,\n",
              " 0,\n",
              " 0,\n",
              " 0,\n",
              " 0,\n",
              " 0,\n",
              " 0,\n",
              " 0,\n",
              " 0,\n",
              " 0,\n",
              " 0,\n",
              " 0,\n",
              " 0,\n",
              " 0,\n",
              " 0,\n",
              " 0,\n",
              " 0,\n",
              " 0,\n",
              " 0,\n",
              " 0,\n",
              " 0,\n",
              " 0,\n",
              " 0,\n",
              " 0,\n",
              " 0,\n",
              " 0,\n",
              " 0,\n",
              " 0,\n",
              " 0,\n",
              " 0)"
            ]
          },
          "metadata": {
            "tags": []
          },
          "execution_count": 37
        }
      ]
    },
    {
      "cell_type": "code",
      "metadata": {
        "colab": {
          "base_uri": "https://localhost:8080/"
        },
        "id": "4D69rFHzeOOH",
        "outputId": "d405bc75-1a3f-489a-f79f-6fc0eaa93a9a"
      },
      "source": [
        "!curl -Lo conda_installer.py https://raw.githubusercontent.com/deepchem/deepchem/master/scripts/colab_install.py\r\n",
        "import conda_installer\r\n",
        "conda_installer.install()\r\n",
        "!/root/miniconda/bin/conda info -e"
      ],
      "execution_count": 1,
      "outputs": [
        {
          "output_type": "stream",
          "text": [
            "  % Total    % Received % Xferd  Average Speed   Time    Time     Time  Current\n",
            "                                 Dload  Upload   Total   Spent    Left  Speed\n",
            "100  3490  100  3490    0     0  20773      0 --:--:-- --:--:-- --:--:-- 20773\n"
          ],
          "name": "stdout"
        },
        {
          "output_type": "stream",
          "text": [
            "add /root/miniconda/lib/python3.6/site-packages to PYTHONPATH\n",
            "python version: 3.6.9\n",
            "fetching installer from https://repo.continuum.io/miniconda/Miniconda3-latest-Linux-x86_64.sh\n",
            "done\n",
            "installing miniconda to /root/miniconda\n",
            "done\n",
            "installing rdkit, openmm, pdbfixer\n",
            "added conda-forge to channels\n",
            "added omnia to channels\n",
            "done\n",
            "conda packages installation finished!\n"
          ],
          "name": "stderr"
        },
        {
          "output_type": "stream",
          "text": [
            "# conda environments:\n",
            "#\n",
            "base                  *  /root/miniconda\n",
            "\n"
          ],
          "name": "stdout"
        }
      ]
    },
    {
      "cell_type": "code",
      "metadata": {
        "id": "IV6ZpSm1eU4v",
        "colab": {
          "base_uri": "https://localhost:8080/"
        },
        "outputId": "289659e5-63dd-466b-a1b7-23b21f64513b"
      },
      "source": [
        "!pip install --pre deepchem"
      ],
      "execution_count": 2,
      "outputs": [
        {
          "output_type": "stream",
          "text": [
            "Collecting deepchem\n",
            "\u001b[?25l  Downloading https://files.pythonhosted.org/packages/c9/02/174188efbfc546aa840eabf64158e26f9f0360718ddfe57b4b6c47388400/deepchem-2.5.0.dev20210205230509-py3-none-any.whl (536kB)\n",
            "\u001b[K     |████████████████████████████████| 542kB 4.1MB/s \n",
            "\u001b[?25hRequirement already satisfied: scikit-learn in /usr/local/lib/python3.6/dist-packages (from deepchem) (0.22.2.post1)\n",
            "Requirement already satisfied: joblib in /usr/local/lib/python3.6/dist-packages (from deepchem) (1.0.0)\n",
            "Requirement already satisfied: numpy in /usr/local/lib/python3.6/dist-packages (from deepchem) (1.19.5)\n",
            "Requirement already satisfied: scipy in /usr/local/lib/python3.6/dist-packages (from deepchem) (1.4.1)\n",
            "Requirement already satisfied: pandas in /usr/local/lib/python3.6/dist-packages (from deepchem) (1.1.5)\n",
            "Requirement already satisfied: pytz>=2017.2 in /usr/local/lib/python3.6/dist-packages (from pandas->deepchem) (2018.9)\n",
            "Requirement already satisfied: python-dateutil>=2.7.3 in /usr/local/lib/python3.6/dist-packages (from pandas->deepchem) (2.8.1)\n",
            "Requirement already satisfied: six>=1.5 in /usr/local/lib/python3.6/dist-packages (from python-dateutil>=2.7.3->pandas->deepchem) (1.15.0)\n",
            "Installing collected packages: deepchem\n",
            "Successfully installed deepchem-2.5.0.dev20210205230509\n"
          ],
          "name": "stdout"
        }
      ]
    },
    {
      "cell_type": "code",
      "metadata": {
        "id": "bz-Ki3r_eUxI",
        "colab": {
          "base_uri": "https://localhost:8080/"
        },
        "outputId": "baaa59a5-af9e-4588-969d-4ce26d9a76f2"
      },
      "source": [
        "!pip install cirpy"
      ],
      "execution_count": 3,
      "outputs": [
        {
          "output_type": "stream",
          "text": [
            "Collecting cirpy\n",
            "  Downloading https://files.pythonhosted.org/packages/fc/bc/3d7cb58ba6ffcde0d18d3f0e72a22caffe7741485bd1d286fd10d6a9a397/CIRpy-1.0.2.tar.gz\n",
            "Building wheels for collected packages: cirpy\n",
            "  Building wheel for cirpy (setup.py) ... \u001b[?25l\u001b[?25hdone\n",
            "  Created wheel for cirpy: filename=CIRpy-1.0.2-cp36-none-any.whl size=7269 sha256=3b6cedd92b78f5f2bc483c9ab5c0a9e4f76511a8f6a59a5414fea7be7f79c6cc\n",
            "  Stored in directory: /root/.cache/pip/wheels/90/31/65/5c9e5a9c65c11466a31aa8360a146cb92ee3abbd628f2801f7\n",
            "Successfully built cirpy\n",
            "Installing collected packages: cirpy\n",
            "Successfully installed cirpy-1.0.2\n"
          ],
          "name": "stdout"
        }
      ]
    }
  ]
}